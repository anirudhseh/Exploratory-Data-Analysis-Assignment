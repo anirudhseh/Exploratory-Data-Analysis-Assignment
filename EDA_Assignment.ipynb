{
  "nbformat": 4,
  "nbformat_minor": 0,
  "metadata": {
    "colab": {
      "provenance": []
    },
    "kernelspec": {
      "name": "python3",
      "display_name": "Python 3"
    },
    "language_info": {
      "name": "python"
    }
  },
  "cells": [
    {
      "cell_type": "code",
      "execution_count": 3,
      "metadata": {
        "colab": {
          "base_uri": "https://localhost:8080/"
        },
        "id": "UOtpJwFaRpg2",
        "outputId": "231baf9a-8702-41c1-a399-dde926a2dc36"
      },
      "outputs": [
        {
          "output_type": "stream",
          "name": "stdout",
          "text": [
            "Q1: shape: (1061, 7)\n",
            "Q1: columns: ['name', 'selling_price', 'year', 'seller_type', 'owner', 'km_driven', 'ex_showroom_price']\n",
            "                                   name  selling_price  year seller_type  \\\n",
            "0             Royal Enfield Classic 350         175000  2019  Individual   \n",
            "1                             Honda Dio          45000  2017  Individual   \n",
            "2   Royal Enfield Classic Gunmetal Grey         150000  2018  Individual   \n",
            "3     Yamaha Fazer FI V 2.0 [2016-2018]          65000  2015  Individual   \n",
            "4                 Yamaha SZ [2013-2014]          20000  2011  Individual   \n",
            "5                      Honda CB Twister          18000  2010  Individual   \n",
            "6                  Honda CB Hornet 160R          78500  2018  Individual   \n",
            "7  Royal Enfield Bullet 350 [2007-2011]         180000  2008  Individual   \n",
            "8                Hero Honda CBZ extreme          30000  2010  Individual   \n",
            "9                    Bajaj Discover 125          50000  2016  Individual   \n",
            "\n",
            "       owner  km_driven  ex_showroom_price  \n",
            "0  1st owner        350                NaN  \n",
            "1  1st owner       5650                NaN  \n",
            "2  1st owner      12000           148114.0  \n",
            "3  1st owner      23000            89643.0  \n",
            "4  2nd owner      21000                NaN  \n",
            "5  1st owner      60000            53857.0  \n",
            "6  1st owner      17000            87719.0  \n",
            "7  2nd owner      39000                NaN  \n",
            "8  1st owner      32000                NaN  \n",
            "9  1st owner      42000            60122.0  \n"
          ]
        }
      ],
      "source": [
        "#1\n",
        "import pandas as pd\n",
        "import numpy as np\n",
        "import matplotlib.pyplot as plt\n",
        "import seaborn as sns\n",
        "import os\n",
        "\n",
        "sns.set(style=\"whitegrid\")\n",
        "\n",
        "\n",
        "fname = \"BIKE DETAILS.csv\"\n",
        "df = pd.read_csv(fname)\n",
        "\n",
        "\n",
        "out = \"eda_outputs\"\n",
        "os.makedirs(out, exist_ok=True)\n",
        "\n",
        "\n",
        "print(\"Q1: shape:\", df.shape)\n",
        "print(\"Q1: columns:\", list(df.columns))\n",
        "display_head = df.head(10)\n",
        "print(display_head)\n",
        "display_head.to_csv(os.path.join(out, \"q1_first10.csv\"), index=False)"
      ]
    },
    {
      "cell_type": "code",
      "source": [
        "#2\n",
        "print(\"\\nQ2: Missing values per column:\")\n",
        "missing = df.isna().sum()\n",
        "print(missing)\n",
        "\n",
        "num_cols = df.select_dtypes(include=[np.number]).columns.tolist()\n",
        "cat_cols = df.select_dtypes(exclude=[np.number]).columns.tolist()\n",
        "\n",
        "\n",
        "print(\"\\nMissing % by column:\")\n",
        "print((df.isna().mean()*100).round(2))\n",
        "\n",
        "df_clean = df.copy()\n",
        "for c in num_cols:\n",
        "    if df_clean[c].isna().sum() > 0:\n",
        "        med = df_clean[c].median()\n",
        "        df_clean[c].fillna(med, inplace=True)\n",
        "for c in cat_cols:\n",
        "    if df_clean[c].isna().sum() > 0:\n",
        "        mode = df_clean[c].mode()\n",
        "        if len(mode) > 0:\n",
        "            df_clean[c].fillna(mode[0], inplace=True)\n",
        "        else:\n",
        "            df_clean[c].fillna(\"Unknown\", inplace=True)\n",
        "\n",
        "\n",
        "missing.to_csv(os.path.join(out, \"q2_missing_counts.csv\"))"
      ],
      "metadata": {
        "colab": {
          "base_uri": "https://localhost:8080/"
        },
        "id": "Hsp_6LuMSsRd",
        "outputId": "4d183915-0767-43e0-9acc-e572391c9e55"
      },
      "execution_count": 6,
      "outputs": [
        {
          "output_type": "stream",
          "name": "stdout",
          "text": [
            "\n",
            "Q2: Missing values per column:\n",
            "name                   0\n",
            "selling_price          0\n",
            "year                   0\n",
            "seller_type            0\n",
            "owner                  0\n",
            "km_driven              0\n",
            "ex_showroom_price    435\n",
            "dtype: int64\n",
            "\n",
            "Missing % by column:\n",
            "name                  0.0\n",
            "selling_price         0.0\n",
            "year                  0.0\n",
            "seller_type           0.0\n",
            "owner                 0.0\n",
            "km_driven             0.0\n",
            "ex_showroom_price    41.0\n",
            "dtype: float64\n"
          ]
        },
        {
          "output_type": "stream",
          "name": "stderr",
          "text": [
            "/tmp/ipython-input-1658941745.py:17: FutureWarning: A value is trying to be set on a copy of a DataFrame or Series through chained assignment using an inplace method.\n",
            "The behavior will change in pandas 3.0. This inplace method will never work because the intermediate object on which we are setting values always behaves as a copy.\n",
            "\n",
            "For example, when doing 'df[col].method(value, inplace=True)', try using 'df.method({col: value}, inplace=True)' or df[col] = df[col].method(value) instead, to perform the operation inplace on the original object.\n",
            "\n",
            "\n",
            "  df_clean[c].fillna(med, inplace=True)\n"
          ]
        }
      ]
    },
    {
      "cell_type": "code",
      "source": [
        "#3\n",
        "plt.figure(figsize=(8,5))\n",
        "sns.histplot(df_clean['selling_price'], kde=False, bins=30)\n",
        "plt.title(\"Distribution of Selling Price\")\n",
        "plt.xlabel(\"Selling Price\")\n",
        "plt.ylabel(\"Count\")\n",
        "plt.tight_layout()\n",
        "plt.savefig(os.path.join(out, \"q3_selling_price_hist.png\"), dpi=150)\n",
        "plt.close()\n",
        "\n",
        "print(\"\\nQ3: selling_price summary statistics:\")\n",
        "print(df_clean['selling_price'].describe())"
      ],
      "metadata": {
        "colab": {
          "base_uri": "https://localhost:8080/"
        },
        "id": "qXkWTXccS0y6",
        "outputId": "d4a4fbd6-af54-444c-e270-61f4ffb024a4"
      },
      "execution_count": 7,
      "outputs": [
        {
          "output_type": "stream",
          "name": "stdout",
          "text": [
            "\n",
            "Q3: selling_price summary statistics:\n",
            "count      1061.000000\n",
            "mean      59638.151744\n",
            "std       56304.291973\n",
            "min        5000.000000\n",
            "25%       28000.000000\n",
            "50%       45000.000000\n",
            "75%       70000.000000\n",
            "max      760000.000000\n",
            "Name: selling_price, dtype: float64\n"
          ]
        }
      ]
    },
    {
      "cell_type": "code",
      "source": [
        "#4\n",
        "if 'seller_type' in df_clean.columns:\n",
        "    avg_by_seller = df_clean.groupby('seller_type')['selling_price'].mean().sort_values()\n",
        "    print(\"\\nQ4: average selling price by seller_type:\")\n",
        "    print(avg_by_seller)\n",
        "    plt.figure(figsize=(7,4))\n",
        "    sns.barplot(x=avg_by_seller.index, y=avg_by_seller.values)\n",
        "    plt.ylabel(\"Average Selling Price\")\n",
        "    plt.xlabel(\"Seller Type\")\n",
        "    plt.title(\"Avg Selling Price by Seller Type\")\n",
        "    plt.tight_layout()\n",
        "    plt.savefig(os.path.join(out, \"q4_avg_price_by_seller_type.png\"), dpi=150)\n",
        "    plt.close()\n",
        "else:\n",
        "    print(\"Q4: Column 'seller_type' not found.\")"
      ],
      "metadata": {
        "colab": {
          "base_uri": "https://localhost:8080/"
        },
        "id": "o9m8fDUYTSxf",
        "outputId": "3061ece1-623a-400b-a816-157fd774e8f5"
      },
      "execution_count": 8,
      "outputs": [
        {
          "output_type": "stream",
          "name": "stdout",
          "text": [
            "\n",
            "Q4: average selling price by seller_type:\n",
            "seller_type\n",
            "Dealer        46666.666667\n",
            "Individual    59711.923223\n",
            "Name: selling_price, dtype: float64\n"
          ]
        }
      ]
    },
    {
      "cell_type": "code",
      "source": [
        "#5\n",
        "if 'owner' in df_clean.columns and 'km_driven' in df_clean.columns:\n",
        "    avg_km_by_owner = df_clean.groupby('owner')['km_driven'].mean().sort_values()\n",
        "    print(\"\\nQ5: avg km_driven by owner:\")\n",
        "    print(avg_km_by_owner)\n",
        "    plt.figure(figsize=(8,4))\n",
        "    sns.barplot(x=avg_km_by_owner.index, y=avg_km_by_owner.values)\n",
        "    plt.ylabel(\"Average km_driven\")\n",
        "    plt.xlabel(\"Ownership Type\")\n",
        "    plt.title(\"Avg km_driven by Ownership Type\")\n",
        "    plt.tight_layout()\n",
        "    plt.savefig(os.path.join(out, \"q5_avg_km_by_owner.png\"), dpi=150)\n",
        "    plt.close()\n",
        "else:\n",
        "    print(\"Q5: Columns 'owner' and/or 'km_driven' not found.\")"
      ],
      "metadata": {
        "colab": {
          "base_uri": "https://localhost:8080/"
        },
        "id": "SdGKt8MxTXlx",
        "outputId": "ce2f2a05-d3bd-470b-f64d-1d94ff40368e"
      },
      "execution_count": 9,
      "outputs": [
        {
          "output_type": "stream",
          "name": "stdout",
          "text": [
            "\n",
            "Q5: avg km_driven by owner:\n",
            "owner\n",
            "1st owner     32816.583333\n",
            "3rd owner     33292.181818\n",
            "2nd owner     39288.991870\n",
            "4th owner    311500.000000\n",
            "Name: km_driven, dtype: float64\n"
          ]
        }
      ]
    },
    {
      "cell_type": "code",
      "source": [
        "#6\n",
        "if 'km_driven' in df_clean.columns:\n",
        "    before_stats = df_clean['km_driven'].describe()\n",
        "    Q1 = df_clean['km_driven'].quantile(0.25)\n",
        "    Q3 = df_clean['km_driven'].quantile(0.75)\n",
        "    IQR = Q3 - Q1\n",
        "    lower = Q1 - 1.5 * IQR\n",
        "    upper = Q3 + 1.5 * IQR\n",
        "    mask = (df_clean['km_driven'] >= lower) & (df_clean['km_driven'] <= upper)\n",
        "    df_no_out = df_clean[mask].copy()\n",
        "    after_stats = df_no_out['km_driven'].describe()\n",
        "    print(\"\\nQ6: km_driven before:\\n\", before_stats)\n",
        "    print(\"\\nQ6: km_driven after removing outliers:\\n\", after_stats)\n",
        "\n",
        "    pd.DataFrame({'before': before_stats, 'after': after_stats}).to_csv(os.path.join(out, \"q6_km_stats_before_after.csv\"))\n",
        "else:\n",
        "    print(\"Q6: 'km_driven' not found.\")"
      ],
      "metadata": {
        "colab": {
          "base_uri": "https://localhost:8080/"
        },
        "id": "PwyoyYiiTcQv",
        "outputId": "17ed258f-79e3-427b-9648-5911009f73ca"
      },
      "execution_count": 10,
      "outputs": [
        {
          "output_type": "stream",
          "name": "stdout",
          "text": [
            "\n",
            "Q6: km_driven before:\n",
            " count      1061.000000\n",
            "mean      34359.833176\n",
            "std       51623.152702\n",
            "min         350.000000\n",
            "25%       13500.000000\n",
            "50%       25000.000000\n",
            "75%       43000.000000\n",
            "max      880000.000000\n",
            "Name: km_driven, dtype: float64\n",
            "\n",
            "Q6: km_driven after removing outliers:\n",
            " count     1022.000000\n",
            "mean     28203.415851\n",
            "std      19552.083583\n",
            "min        350.000000\n",
            "25%      13000.000000\n",
            "50%      24000.000000\n",
            "75%      40000.000000\n",
            "max      86000.000000\n",
            "Name: km_driven, dtype: float64\n"
          ]
        }
      ]
    },
    {
      "cell_type": "code",
      "source": [
        "#7\n",
        "if 'year' in df_clean.columns and 'selling_price' in df_clean.columns:\n",
        "    plt.figure(figsize=(8,5))\n",
        "    sns.scatterplot(x='year', y='selling_price', data=df_clean, alpha=0.5)\n",
        "    plt.title(\"Year vs Selling Price\")\n",
        "    plt.xlabel(\"Year\")\n",
        "    plt.ylabel(\"Selling Price\")\n",
        "    plt.tight_layout()\n",
        "    plt.savefig(os.path.join(out, \"q7_year_vs_price_scatter.png\"), dpi=150)\n",
        "    plt.close()\n",
        "else:\n",
        "    print(\"Q7: 'year' and/or 'selling_price' not found.\")"
      ],
      "metadata": {
        "id": "75tRQRuXTjur"
      },
      "execution_count": 13,
      "outputs": []
    },
    {
      "cell_type": "code",
      "source": [
        "#8\n",
        "if 'seller_type' in df_clean.columns:\n",
        "    df_ohe = pd.get_dummies(df_clean, columns=['seller_type'], drop_first=False)\n",
        "    print(\"\\nQ8: first 5 rows after one-hot encoding seller_type:\")\n",
        "    print(df_ohe.head(5))\n",
        "    df_ohe.head(5).to_csv(os.path.join(out, \"q8_ohe_first5.csv\"), index=False)\n",
        "else:\n",
        "    print(\"Q8: 'seller_type' not found. Skipping OHE.\")"
      ],
      "metadata": {
        "colab": {
          "base_uri": "https://localhost:8080/"
        },
        "id": "wJEsuEGvUClX",
        "outputId": "bd9a74b1-6a1f-4c34-9d06-b9e4157ce79f"
      },
      "execution_count": 14,
      "outputs": [
        {
          "output_type": "stream",
          "name": "stdout",
          "text": [
            "\n",
            "Q8: first 5 rows after one-hot encoding seller_type:\n",
            "                                  name  selling_price  year      owner  \\\n",
            "0            Royal Enfield Classic 350         175000  2019  1st owner   \n",
            "1                            Honda Dio          45000  2017  1st owner   \n",
            "2  Royal Enfield Classic Gunmetal Grey         150000  2018  1st owner   \n",
            "3    Yamaha Fazer FI V 2.0 [2016-2018]          65000  2015  1st owner   \n",
            "4                Yamaha SZ [2013-2014]          20000  2011  2nd owner   \n",
            "\n",
            "   km_driven  ex_showroom_price  seller_type_Dealer  seller_type_Individual  \n",
            "0        350            72752.5               False                    True  \n",
            "1       5650            72752.5               False                    True  \n",
            "2      12000           148114.0               False                    True  \n",
            "3      23000            89643.0               False                    True  \n",
            "4      21000            72752.5               False                    True  \n"
          ]
        }
      ]
    },
    {
      "cell_type": "code",
      "source": [
        "#9\n",
        "num_df = df_clean.select_dtypes(include=[np.number]).copy()\n",
        "corr = num_df.corr()\n",
        "plt.figure(figsize=(10,8))\n",
        "sns.heatmap(corr, annot=True, fmt=\".2f\", cmap=\"coolwarm\", square=False)\n",
        "plt.title(\"Correlation matrix (numeric columns)\")\n",
        "plt.tight_layout()\n",
        "plt.savefig(os.path.join(out, \"q9_correlation_heatmap.png\"), dpi=150)\n",
        "plt.close()\n",
        "print(\"\\nQ9: Top correlations (absolute) — head of pairs:\")\n",
        "corr_unstack = corr.abs().unstack().sort_values(ascending=False)\n",
        "\n",
        "corr_unstack = corr_unstack[corr_unstack < 0.9999]\n",
        "top_pairs = corr_unstack.drop_duplicates().head(10)\n",
        "print(top_pairs)"
      ],
      "metadata": {
        "colab": {
          "base_uri": "https://localhost:8080/"
        },
        "id": "67PPbXWGUGta",
        "outputId": "09731d5a-c61f-4e1a-fdb5-ba3a1bbb4810"
      },
      "execution_count": 15,
      "outputs": [
        {
          "output_type": "stream",
          "name": "stdout",
          "text": [
            "\n",
            "Q9: Top correlations (absolute) — head of pairs:\n",
            "selling_price  ex_showroom_price    0.744075\n",
            "year           selling_price        0.402188\n",
            "               km_driven            0.288675\n",
            "km_driven      selling_price        0.212937\n",
            "year           ex_showroom_price    0.100066\n",
            "km_driven      ex_showroom_price    0.086791\n",
            "dtype: float64\n"
          ]
        }
      ]
    },
    {
      "cell_type": "code",
      "source": [
        "#10\n",
        "print(\"\\nQ10: Summary of findings (brief):\")\n",
        "print(\"\"\"\n",
        "- Selling price tends to be strongly related to the bike's year (newer bikes command higher prices).\n",
        "- Variables like 'km_driven' and 'owner' also influence price (higher km usually lowers price).\n",
        "- We cleaned missing values by filling numeric NaNs with medians and categorical with modes.\n",
        "- We removed km_driven outliers using the IQR method to avoid skew in km-related analyses.\n",
        "- One-hot encoding was applied to seller_type for modeling readiness.\n",
        "\"\"\")\n",
        "\n",
        "\n",
        "df_clean.to_csv(os.path.join(out, \"df_clean.csv\"), index=False)\n",
        "if 'df_no_out' in locals():\n",
        "    df_no_out.to_csv(os.path.join(out, \"df_no_outliers.csv\"), index=False)\n",
        "\n",
        "print(f\"\\nAll outputs saved in folder: {out}\")\n"
      ],
      "metadata": {
        "colab": {
          "base_uri": "https://localhost:8080/"
        },
        "id": "3C1OAohTUR1a",
        "outputId": "1b511cb0-dbd5-4dd4-e62c-08b1273c197c"
      },
      "execution_count": 16,
      "outputs": [
        {
          "output_type": "stream",
          "name": "stdout",
          "text": [
            "\n",
            "Q10: Summary of findings (brief):\n",
            "\n",
            "- Selling price tends to be strongly related to the bike's year (newer bikes command higher prices).\n",
            "- Variables like 'km_driven' and 'owner' also influence price (higher km usually lowers price).\n",
            "- We cleaned missing values by filling numeric NaNs with medians and categorical with modes.\n",
            "- We removed km_driven outliers using the IQR method to avoid skew in km-related analyses.\n",
            "- One-hot encoding was applied to seller_type for modeling readiness.\n",
            "\n",
            "\n",
            "All outputs saved in folder: eda_outputs\n"
          ]
        }
      ]
    }
  ]
}